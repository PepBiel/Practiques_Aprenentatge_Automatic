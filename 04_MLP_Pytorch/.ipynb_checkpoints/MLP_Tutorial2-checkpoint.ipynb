{
 "cells": [
  {
   "cell_type": "code",
   "execution_count": 1,
   "id": "initial_id",
   "metadata": {
    "ExecuteTime": {
     "end_time": "2024-10-15T14:15:17.192847Z",
     "start_time": "2024-10-15T14:15:12.728948Z"
    }
   },
   "outputs": [],
   "source": [
    "## Importam les llibreries necessaries\n",
    "import torch\n",
    "import torch.nn as nn\n",
    "import math\n",
    "import torch.optim as optim\n",
    "import numpy as np\n",
    "import matplotlib.pyplot as plt"
   ]
  },
  {
   "cell_type": "markdown",
   "id": "b944431828f34454",
   "metadata": {},
   "source": [
    "### Un nou problema\n",
    "\n",
    "El problema que volem resoldre és la creació d'una xarxa que sigui capaç de realitzar la predicció del valor mitjà de l'habitatge per als districtes de Califòrnia. Aquest tipus de conjunts es coneixen amb el nom d'exemples de joguina, ja que estan preparats per aconseguir bons resultats amb models relativament simples,.\n",
    "\n",
    " Cada observació és un grup de blocs censals. La variable objectiu és el valor mitjà de l'habitatge en 100.000 USD l'any 1990 i hi ha 8 característiques d'entrada, cadascuna que descriu alguna cosa sobre la casa.\n",
    "\n",
    " - MedInc: ingressos mitjans al grup de blocs.\n",
    " - HouseAge: edat mitjana dels blocs.\n",
    " - AveRooms: nombre mitjà d'habitacions per llar.\n",
    " - AveBedrms: nombre mitjà d'habitacions per llar.\n",
    " - Population: nombre de persones que viuen als blocs.\n",
    " - AveOccup: nombre mitjà de membres de la llar.\n",
    " - Latitude: latitud del centroide del grup de blocs.\n",
    " - Longitude: longitud del centroide del grup de blocs.\n",
    "\n",
    "Aquestes dades tenen la particularitat que diverses característiques es troben en una escala molt diferent. Per exemple, el nombre d'habitacions per habitatge acostuma a ser petit, però la població per bloc sol ser gran. A més, la majoria de les característiques haurien de ser positives, però la longitud ha de ser negativa, recordau que som a Califòrnia. El maneig d'aquesta diversitat de dades és un repte per a alguns models d'aprenentatge automàtic i l'hem de resoldre."
   ]
  },
  {
   "cell_type": "code",
   "execution_count": 2,
   "id": "945ad863eba26ade",
   "metadata": {
    "ExecuteTime": {
     "end_time": "2024-10-15T14:16:03.481424Z",
     "start_time": "2024-10-15T14:16:01.656750Z"
    }
   },
   "outputs": [],
   "source": [
    "from sklearn.model_selection import train_test_split\n",
    "from sklearn.datasets import fetch_california_housing\n",
    "\n",
    "# Obtenim les dades\n",
    "data = fetch_california_housing()\n",
    "X, y = data.data, data.target\n",
    " \n",
    "# Les dividim en els dos conjunts que hem mencionat. El d'entrenament té el 70% de les dades\n",
    "X_train, X_test, y_train, y_test = train_test_split(X, y, train_size=0.7, shuffle=True)\n",
    " \n",
    "# Convertim les estructures Numpy a tensors compatibles amb Pytorch\n",
    "X_train = torch.tensor(X_train, dtype=torch.float32)\n",
    "y_train = torch.tensor(y_train, dtype=torch.float32).reshape(-1, 1)\n",
    "X_test = torch.tensor(X_test, dtype=torch.float32)\n",
    "y_test = torch.tensor(y_test, dtype=torch.float32).reshape(-1, 1)"
   ]
  },
  {
   "cell_type": "markdown",
   "id": "747f2516e10259e5",
   "metadata": {},
   "source": [
    "## Definició de la xarxa\n",
    "\n"
   ]
  },
  {
   "cell_type": "code",
   "execution_count": 3,
   "id": "3cde64d76e57060a",
   "metadata": {
    "ExecuteTime": {
     "end_time": "2024-10-15T14:17:08.254044Z",
     "start_time": "2024-10-15T14:17:06.604928Z"
    }
   },
   "outputs": [],
   "source": [
    "model = nn.Sequential((torch.nn.Linear(8, 4)),\n",
    "                      nn.ReLU(),\n",
    "                     (torch.nn.Linear(4, 1)))\n",
    "\n",
    "loss_fn = nn.MSELoss()  # mean square error\n",
    "optimizer = optim.Adam(model.parameters(), lr=0.001)"
   ]
  },
  {
   "cell_type": "markdown",
   "id": "31a860c047520ac3",
   "metadata": {},
   "source": [
    "### Entrenament\n",
    "\n",
    "L'entrenament es duu a terme en forma de bucle, el nombre de cops que s'ha de realitzar aquest bucle és un hiperparàmetre que nosaltres haurem de decidir. \n",
    "\n",
    "A cada iteració de l'entrenament la xarxa realitza una predicció sobre les dades d'entrada i després es calcula **l'error mitjà** de totes les mostres emprant la funció de pèrdua com a referència d'aquesta manera es sap com s'han de modificar els pesos de la xarxa per aconseguir un bon resultat final. \n",
    "\n",
    "**Batches**\n",
    "\n",
    "Per tal d'aconseguir un equilibri entre el gran cost que suposaria fer una predicció de cada observació de manera individual i la poca importància que tendría cada observació en la mitja de l'error si es fessin totes les prediccions de cop, es sol cercar un camí intermedi que consisteix a dividir el conjunt de dades en grups anomenats _batches_. \n",
    "\n"
   ]
  },
  {
   "cell_type": "code",
   "execution_count": 4,
   "id": "8438c13c26e8154b",
   "metadata": {
    "ExecuteTime": {
     "end_time": "2024-10-15T14:18:50.107056Z",
     "start_time": "2024-10-15T14:17:15.160227Z"
    }
   },
   "outputs": [
    {
     "name": "stdout",
     "output_type": "stream",
     "text": [
      "MSE amb el millor model: 0.613153874874115\n"
     ]
    },
    {
     "data": {
      "image/png": "[encoded data removed]",
      "text/plain": [
       "<Figure size 640x480 with 1 Axes>"
      ]
     },
     "metadata": {},
     "output_type": "display_data"
    }
   ],
   "source": [
    "import copy\n",
    "import numpy as np\n",
    "import torch\n",
    "\n",
    "\n",
    "n_epochs = 100   # nombre d'iteracions del bucle d'entrenament\n",
    "batch_size = 10  # nombre d'elements que té cada batch\n",
    "batch_start = torch.arange(0, len(X_train), batch_size)\n",
    " \n",
    "# Ens servirà per guardar el millor model\n",
    "best_mse = np.inf   # init to infinity\n",
    "best_weights = None\n",
    "history = []\n",
    " \n",
    "for epoch in range(n_epochs):\n",
    "    model.train() # Posam el model en mode entrenament \n",
    "     \n",
    "    for start in batch_start: # \n",
    "        # agafam un batch\n",
    "        X_batch = X_train[start:start+batch_size]\n",
    "        y_batch = y_train[start:start+batch_size]\n",
    "        # realitzem la predicció (passa envant)\n",
    "        y_pred = model(X_batch)\n",
    "        loss = loss_fn(y_pred, y_batch)\n",
    "        # realitzem la passa enrere\n",
    "        optimizer.zero_grad()\n",
    "        loss.backward()\n",
    "        # actualitzem els pesos\n",
    "        optimizer.step()\n",
    "\n",
    "    # avaluem el model\n",
    "    model.eval()  # Mode avaluació de la xarxa\n",
    "    y_pred = model(X_test)\n",
    "    mse = loss_fn(y_pred, y_test)\n",
    "    mse = float(mse)\n",
    "    history.append(mse)\n",
    "    \n",
    "    if mse < best_mse: # si és el millor en realitzem una copia\n",
    "        best_mse = mse\n",
    "        best_weights = copy.deepcopy(model.state_dict())\n",
    " \n",
    "# carregam el millor model\n",
    "model.load_state_dict(best_weights)\n",
    "print(f\"MSE amb el millor model: {best_mse}\")\n",
    "plt.plot(history)\n",
    "plt.show()"
   ]
  },
  {
   "cell_type": "markdown",
   "id": "7e93749539d855cf",
   "metadata": {},
   "source": [
    "## Exercici\n",
    "\n",
    "1. Prova noves configuracions de la xarxa afegint capes ocultes al `model`. Quina és la configuració que dona el menor error en el conjunt de test? \n",
    "2. En la descripció del conjunt de dades hem dit que la seva particularitat és que les dades estan a diferent escala. Torna a realitzar el procés de càrrega de dades, però abans de transformar-les a tensors, prova de normalitzar-les. Després, entrena un nou model i compara els resultats obtinguts.\n"
   ]
  },
  {
   "cell_type": "code",
   "execution_count": 5,
   "id": "99d3b2d37a01130a",
   "metadata": {
    "ExecuteTime": {
     "end_time": "2024-10-15T14:22:34.453563Z",
     "start_time": "2024-10-15T14:22:34.436458Z"
    }
   },
   "outputs": [],
   "source": [
    "# TODO: POSAR EL TEU CODI PER A L'EXERCICI 2"
   ]
  }
 ],
 "metadata": {
  "kernelspec": {
   "display_name": "Python 3 (ipykernel)",
   "language": "python",
   "name": "python3"
  },
  "language_info": {
   "codemirror_mode": {
    "name": "ipython",
    "version": 3
   },
   "file_extension": ".py",
   "mimetype": "text/x-python",
   "name": "python",
   "nbconvert_exporter": "python",
   "pygments_lexer": "ipython3",
   "version": "3.12.5"
  }
 },
 "nbformat": 4,
 "nbformat_minor": 5
}
